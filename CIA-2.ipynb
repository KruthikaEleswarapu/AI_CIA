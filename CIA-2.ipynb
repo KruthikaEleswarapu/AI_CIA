{
 "cells": [
  {
   "cell_type": "markdown",
   "id": "9dfe27f8",
   "metadata": {},
   "source": [
    "ALPHA-BETA PRUNING"
   ]
  },
  {
   "cell_type": "code",
   "execution_count": 5,
   "id": "5e9edb24",
   "metadata": {},
   "outputs": [],
   "source": [
    "import math"
   ]
  },
  {
   "cell_type": "code",
   "execution_count": 6,
   "id": "8465f65d",
   "metadata": {},
   "outputs": [],
   "source": [
    "def minimax_with_alpha_beta(depth, nodeIndex, isMaximizingPlayer, values, maxDepth, alpha, beta):\n",
    "    # Terminal node (leaf nodes)\n",
    "    if depth == maxDepth:\n",
    "        print(f\"Leaf node reached at depth {depth}, returning value: {values[nodeIndex]}\")\n",
    "        return values[nodeIndex]\n",
    "\n",
    "    if isMaximizingPlayer:\n",
    "        best = -math.inf\n",
    "        print(f\"Maximizer at depth {depth}\")\n",
    "\n",
    "        # Maximizer's choice (MAX player)\n",
    "        for i in range(2):\n",
    "            value = minimax_with_alpha_beta(depth + 1, nodeIndex * 2 + i, False, values, maxDepth, alpha, beta)\n",
    "            print(f\"Maximizer at depth {depth}, comparing value: {value} with best: {best}\")\n",
    "            best = max(best, value)\n",
    "            alpha = max(alpha, best)  # Update alpha\n",
    "            if beta <= alpha:  # Beta cut-off\n",
    "                print(f\"Maximizer at depth {depth}, pruning branches with beta: {beta} and alpha: {alpha}\")\n",
    "                break\n",
    "\n",
    "        print(f\"Maximizer at depth {depth}, selected best: {best}\")\n",
    "        return best\n",
    "    else:\n",
    "        best = math.inf\n",
    "        print(f\"Minimizer at depth {depth}\")\n",
    "\n",
    "        # Minimizer's choice (MIN player)\n",
    "        for i in range(2):\n",
    "            value = minimax_with_alpha_beta(depth + 1, nodeIndex * 2 + i, True, values, maxDepth, alpha, beta)\n",
    "            print(f\"Minimizer at depth {depth}, comparing value: {value} with best: {best}\")\n",
    "            best = min(best, value)\n",
    "            beta = min(beta, best)  # Update beta\n",
    "            if beta <= alpha:  # Alpha cut-off\n",
    "                print(f\"Minimizer at depth {depth}, pruning branches with beta: {beta} and alpha: {alpha}\")\n",
    "                break\n",
    "\n",
    "        print(f\"Minimizer at depth {depth}, selected best: {best}\")\n",
    "        return best"
   ]
  },
  {
   "cell_type": "code",
   "execution_count": 7,
   "id": "ce3a1363",
   "metadata": {},
   "outputs": [
    {
     "name": "stdout",
     "output_type": "stream",
     "text": [
      "Maximizer at depth 0\n",
      "Minimizer at depth 1\n",
      "Maximizer at depth 2\n",
      "Leaf node reached at depth 3, returning value: 3\n",
      "Maximizer at depth 2, comparing value: 3 with best: -inf\n",
      "Leaf node reached at depth 3, returning value: 5\n",
      "Maximizer at depth 2, comparing value: 5 with best: 3\n",
      "Maximizer at depth 2, selected best: 5\n",
      "Minimizer at depth 1, comparing value: 5 with best: inf\n",
      "Maximizer at depth 2\n",
      "Leaf node reached at depth 3, returning value: 2\n",
      "Maximizer at depth 2, comparing value: 2 with best: -inf\n",
      "Leaf node reached at depth 3, returning value: 9\n",
      "Maximizer at depth 2, comparing value: 9 with best: 2\n",
      "Maximizer at depth 2, pruning branches with beta: 5 and alpha: 9\n",
      "Maximizer at depth 2, selected best: 9\n",
      "Minimizer at depth 1, comparing value: 9 with best: 5\n",
      "Minimizer at depth 1, selected best: 5\n",
      "Maximizer at depth 0, comparing value: 5 with best: -inf\n",
      "Minimizer at depth 1\n",
      "Maximizer at depth 2\n",
      "Leaf node reached at depth 3, returning value: 12\n",
      "Maximizer at depth 2, comparing value: 12 with best: -inf\n",
      "Leaf node reached at depth 3, returning value: 5\n",
      "Maximizer at depth 2, comparing value: 5 with best: 12\n",
      "Maximizer at depth 2, selected best: 12\n",
      "Minimizer at depth 1, comparing value: 12 with best: inf\n",
      "Maximizer at depth 2\n",
      "Leaf node reached at depth 3, returning value: 23\n",
      "Maximizer at depth 2, comparing value: 23 with best: -inf\n",
      "Maximizer at depth 2, pruning branches with beta: 12 and alpha: 23\n",
      "Maximizer at depth 2, selected best: 23\n",
      "Minimizer at depth 1, comparing value: 23 with best: 12\n",
      "Minimizer at depth 1, selected best: 12\n",
      "Maximizer at depth 0, comparing value: 12 with best: 5\n",
      "Maximizer at depth 0, selected best: 12\n",
      "Optimal value is: 12\n"
     ]
    }
   ],
   "source": [
    "# leaf nodes values\n",
    "values = [3, 5, 2, 9, 12, 5, 23, 15]\n",
    "maxDepth = 3\n",
    "result = minimax_with_alpha_beta(0, 0, True, values, maxDepth, -math.inf, math.inf)\n",
    "print(f\"Optimal value is: {result}\")"
   ]
  },
  {
   "cell_type": "markdown",
   "id": "900c9e0f",
   "metadata": {},
   "source": [
    "MINIMAX ALGORITHM"
   ]
  },
  {
   "cell_type": "code",
   "execution_count": 8,
   "id": "05cec40b-b73e-4aba-ab36-a5552b86d28d",
   "metadata": {},
   "outputs": [],
   "source": [
    "def minimax(depth, nodeIndex, isMaximizingPlayer, values, maxDepth):\n",
    "    #terminal node(leaf nodes)\n",
    "    if depth == maxDepth:\n",
    "        print(f\"Leaf node reached at depth {depth}, returning value: {values[nodeIndex]}\")\n",
    "        return values[nodeIndex]\n",
    "\n",
    "    if isMaximizingPlayer:\n",
    "        best = -math.inf\n",
    "\n",
    "        #print(f\"Maximizer at depth {depth}, evaluating children of node {nodeIndex}\")\n",
    "        print(f\"Maximizer at depth {depth}\")\n",
    "        #maximizer's choice (MAX player)\n",
    "        for i in range(2):\n",
    "            value = minimax(depth + 1, nodeIndex * 2 + i, False, values, maxDepth)\n",
    "            print(f\"Maximizer at depth {depth}, comparing value: {value} with best: {best}\")\n",
    "            best = max(best, value)\n",
    "        print(f\"Maximizer at depth {depth}, selected best: {best}\")\n",
    "        return best\n",
    "    else:\n",
    "        best = math.inf\n",
    "\n",
    "        #print(f\"Minimizer at depth {depth}, evaluating children of node {nodeIndex}\")\n",
    "        print(f\"Minimizer at depth {depth}\")\n",
    "        #minimizer's choice (MIN player)\n",
    "        for i in range(2):\n",
    "            value = minimax(depth + 1, nodeIndex * 2 + i, True, values, maxDepth)\n",
    "            print(f\"Minimizer at depth {depth}, comparing value: {value} with best: {best}\")\n",
    "            best = min(best, value)\n",
    "        print(f\"Minimizer at depth {depth}, selected best: {best}\")\n",
    "        return best"
   ]
  },
  {
   "cell_type": "code",
   "execution_count": 9,
   "id": "a024d5f1-080d-4263-a82f-95a8f22064f4",
   "metadata": {},
   "outputs": [
    {
     "name": "stdout",
     "output_type": "stream",
     "text": [
      "Maximizer at depth 0\n",
      "Minimizer at depth 1\n",
      "Maximizer at depth 2\n",
      "Leaf node reached at depth 3, returning value: -1\n",
      "Maximizer at depth 2, comparing value: -1 with best: -inf\n",
      "Leaf node reached at depth 3, returning value: 4\n",
      "Maximizer at depth 2, comparing value: 4 with best: -1\n",
      "Maximizer at depth 2, selected best: 4\n",
      "Minimizer at depth 1, comparing value: 4 with best: inf\n",
      "Maximizer at depth 2\n",
      "Leaf node reached at depth 3, returning value: 2\n",
      "Maximizer at depth 2, comparing value: 2 with best: -inf\n",
      "Leaf node reached at depth 3, returning value: 6\n",
      "Maximizer at depth 2, comparing value: 6 with best: 2\n",
      "Maximizer at depth 2, selected best: 6\n",
      "Minimizer at depth 1, comparing value: 6 with best: 4\n",
      "Minimizer at depth 1, selected best: 4\n",
      "Maximizer at depth 0, comparing value: 4 with best: -inf\n",
      "Minimizer at depth 1\n",
      "Maximizer at depth 2\n",
      "Leaf node reached at depth 3, returning value: -3\n",
      "Maximizer at depth 2, comparing value: -3 with best: -inf\n",
      "Leaf node reached at depth 3, returning value: -5\n",
      "Maximizer at depth 2, comparing value: -5 with best: -3\n",
      "Maximizer at depth 2, selected best: -3\n",
      "Minimizer at depth 1, comparing value: -3 with best: inf\n",
      "Maximizer at depth 2\n",
      "Leaf node reached at depth 3, returning value: 0\n",
      "Maximizer at depth 2, comparing value: 0 with best: -inf\n",
      "Leaf node reached at depth 3, returning value: 7\n",
      "Maximizer at depth 2, comparing value: 7 with best: 0\n",
      "Maximizer at depth 2, selected best: 7\n",
      "Minimizer at depth 1, comparing value: 7 with best: -3\n",
      "Minimizer at depth 1, selected best: -3\n",
      "Maximizer at depth 0, comparing value: -3 with best: 4\n",
      "Maximizer at depth 0, selected best: 4\n",
      "\n",
      "The optimal value is: 4\n"
     ]
    }
   ],
   "source": [
    "#the depth of the game\n",
    "maxDepth = 3\n",
    "#leaf-nodevalues\n",
    "#values = [10, 9, 14, 18, 5, 4, 50, 3]\n",
    "values = [-1,4,2,6,-3,-5,0,7]\n",
    "optimalValue = minimax(0, 0, True, values, maxDepth)\n",
    "\n",
    "print(\"\\nThe optimal value is:\", optimalValue)"
   ]
  }
 ],
 "metadata": {
  "kernelspec": {
   "display_name": "base",
   "language": "python",
   "name": "python3"
  },
  "language_info": {
   "codemirror_mode": {
    "name": "ipython",
    "version": 3
   },
   "file_extension": ".py",
   "mimetype": "text/x-python",
   "name": "python",
   "nbconvert_exporter": "python",
   "pygments_lexer": "ipython3",
   "version": "3.9.13"
  }
 },
 "nbformat": 4,
 "nbformat_minor": 5
}
